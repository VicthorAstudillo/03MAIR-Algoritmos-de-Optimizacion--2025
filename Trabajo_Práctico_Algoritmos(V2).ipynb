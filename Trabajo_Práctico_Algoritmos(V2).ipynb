{
  "nbformat": 4,
  "nbformat_minor": 0,
  "metadata": {
    "colab": {
      "provenance": [],
      "include_colab_link": true
    },
    "kernelspec": {
      "name": "python3",
      "display_name": "Python 3"
    }
  },
  "cells": [
    {
      "cell_type": "markdown",
      "metadata": {
        "id": "view-in-github",
        "colab_type": "text"
      },
      "source": [
        "<a href=\"https://colab.research.google.com/github/VicthorAstudillo/03MAIR-Algoritmos-de-Optimizacion--2025/blob/main/Trabajo_Pr%C3%A1ctico_Algoritmos(V2).ipynb\" target=\"_parent\"><img src=\"https://colab.research.google.com/assets/colab-badge.svg\" alt=\"Open In Colab\"/></a>"
      ]
    },
    {
      "cell_type": "markdown",
      "metadata": {
        "id": "hVbXYX-RfPWh"
      },
      "source": [
        "# Algoritmos de optimización - Trabajo Práctico<br>\n",
        "Nombre y Apellidos: Victor Daniel Astudillo Vallejo  <br>\n",
        "Url: https://github.com/.../03MAIR---Algoritmos-de-Optimizacion---/tree/master/TrabajoPractico<br>\n",
        "Google Colab: https://colab.research.google.com/drive/1_Cu3TB7R5xHCT8LpdxtoQksTdFbhem2i?usp=sharing <br>\n",
        "Problema:\n",
        ">1. Sesiones de doblaje <br>\n",
        "\n",
        "\n",
        "Descripción del problema:\n",
        "\n",
        "Se precisa coordinar el doblaje de una película. Los actores del doblaje deben coincidir en las tomas en las que sus personajes aparecen juntos en las diferentes tomas. Los actores de doblaje cobran todos la misma cantidad por cada día que deben desplazarse hasta el estudio de\n",
        "grabación independientemente del número de tomas que se graben. No es posible grabar más de 6 tomas por día. El objetivo es planificar las sesiones por día de manera que el gasto por los servicios de los actores de doblaje sea el menor posible.\n",
        "\n",
        "Número de actores: 10\n",
        "\n",
        "Número de tomas : 30\n",
        "\n",
        "Actores/Tomas : https://bit.ly/36D8IuK\n",
        "- 1 indica que el actor participa en la toma\n",
        "- 0 en caso contrario\n",
        "\n",
        "\n",
        "\n",
        "\n",
        "\n",
        "\n",
        "\n",
        "                                        "
      ]
    },
    {
      "cell_type": "markdown",
      "source": [
        "#Modelo\n",
        "- ¿Como represento el espacio de soluciones?\n",
        "- ¿Cual es la función objetivo?\n",
        "- ¿Como implemento las restricciones?"
      ],
      "metadata": {
        "id": "Sbo9IqQtpaHZ"
      }
    },
    {
      "cell_type": "code",
      "metadata": {
        "id": "AiskKkzZfy4e"
      },
      "source": [
        "#Respuesta"
      ],
      "execution_count": 2,
      "outputs": []
    },
    {
      "cell_type": "markdown",
      "source": [
        "\n",
        "La solución puede representarse como una asignación de tomas por día, asegurando que no se graben más de 6 tomas por día, en caso de que uno de los actores aparesca en todas las escenas\n",
        "Por ejemplo:\n",
        "\n",
        "Día 1: Tomas [1,2,3,4,5]\n",
        "\n",
        "Día 2: Tomas [6,7,8,9]\n",
        "\n",
        "...\n",
        "\n",
        "La **funcion objetivo**  cuenta el numero de actores que se necesaitan por dia y los suma al final, asi tratamos de minimizar dicho número.\n",
        "\n",
        "Las **restricciones** deben ser las siguientes:\n",
        "1. No se pueden asignar más de 6 tomas a un solo día.\n"
      ],
      "metadata": {
        "id": "67p_vszBposu"
      }
    },
    {
      "cell_type": "markdown",
      "source": [
        "#Análisis\n",
        "- ¿Que complejidad tiene el problema?. Orden de complejidad y Contabilizar el espacio de soluciones"
      ],
      "metadata": {
        "id": "HZz52wOppp-U"
      }
    },
    {
      "cell_type": "code",
      "source": [
        "#Respuesta\n"
      ],
      "metadata": {
        "id": "CZ-5BmpspttV"
      },
      "execution_count": null,
      "outputs": []
    },
    {
      "cell_type": "markdown",
      "source": [
        "El problema pertenece a la clase NP-difícil, ya que es similar a problemas de partición y agrupamiento óptimos. Al existir 30 tomas y estas pueden combinarse en diferentes días la cantidad de asignaciones posibles es $O(6^{30})$\n"
      ],
      "metadata": {
        "id": "Xg4rB8QM9JsI"
      }
    },
    {
      "cell_type": "markdown",
      "source": [
        "#Diseño\n",
        "- ¿Que técnica utilizo? ¿Por qué?"
      ],
      "metadata": {
        "id": "ixEJUwH_pv7M"
      }
    },
    {
      "cell_type": "code",
      "source": [
        "#Respuesta"
      ],
      "metadata": {
        "id": "ZdKPjB9gp2BA"
      },
      "execution_count": null,
      "outputs": []
    },
    {
      "cell_type": "markdown",
      "source": [
        "Se ha utilizado la metaheurística de Recocido Simulado (Simulated Annealing) ya que el espacio de soluciones es muy grande, es ideal para este tipo de problemas porque puede escapar de óptimos locales y explorar mejor el espacio de soluciones. Además se combinó con la simulación múltiple para mejorar resultados."
      ],
      "metadata": {
        "id": "PmftM4UL-CCr"
      }
    },
    {
      "cell_type": "markdown",
      "source": [
        "#Resolución"
      ],
      "metadata": {
        "id": "I33WrwWN5EXn"
      }
    },
    {
      "cell_type": "code",
      "source": [
        "import numpy as np\n",
        "import random\n",
        "import math\n",
        "\n",
        "# ============================================================================\n",
        "# 1. MATRIZ DE PARTICIPACIÓN ACTOR - TOMA\n",
        "# ============================================================================\n",
        "\n",
        "matriz = np.array([\n",
        "    [1,1,1,1,1,0,0,0,0,0], [0,0,1,1,1,0,0,0,0,0], [0,1,0,0,1,0,1,0,0,0],\n",
        "    [1,1,0,0,0,0,1,1,0,0], [0,1,0,1,0,0,0,1,0,0], [1,1,0,1,1,0,0,0,0,0],\n",
        "    [1,1,0,0,1,1,0,0,0,0], [1,1,0,0,0,1,0,0,0,0], [1,1,0,1,0,0,0,0,0,0],\n",
        "    [1,1,0,0,0,1,0,0,1,0], [1,1,1,0,1,0,0,1,0,0], [1,1,1,1,0,1,0,0,0,0],\n",
        "    [1,0,0,1,1,0,0,0,0,0], [1,0,1,0,0,1,0,0,0,0], [1,1,0,0,0,0,1,0,0,0],\n",
        "    [0,0,0,1,0,0,0,0,0,1], [1,0,1,0,0,0,0,0,0,0], [0,0,1,0,0,1,0,0,0,0],\n",
        "    [1,0,1,0,0,0,0,0,0,0], [1,0,1,1,1,0,0,0,0,0], [0,0,0,0,0,1,0,1,0,0],\n",
        "    [1,1,1,1,0,0,0,0,0,0], [1,0,1,0,0,0,0,0,0,0], [0,0,1,0,0,1,0,0,0,0],\n",
        "    [1,1,0,1,0,0,0,0,0,1], [1,0,1,0,1,0,0,0,1,0], [0,0,0,1,1,0,0,0,0,0],\n",
        "    [1,0,0,1,0,0,0,0,0,0], [1,0,0,0,1,1,0,0,0,0], [1,0,0,1,0,0,0,0,0,0]\n",
        "])\n",
        "\n",
        "# ============================================================================\n",
        "# 2. FUNCIÓN OBJETIVO\n",
        "# ============================================================================\n",
        "def objective(schedule, matriz):\n",
        "    \"\"\"\n",
        "    Para cada día:\n",
        "      - Se seleccionan las filas (tomas) correspondientes (recordando que las tomas se\n",
        "        numeran de 1 a 30, por lo que se ajusta a 0-index)\n",
        "      - Se utiliza np.logical_or.reduce para obtener la unión (OR) de las filas, lo que\n",
        "        indica, para cada actor, si participó al menos en una toma del día.\n",
        "      - Se cuenta el número de actores (1's en la unión)\n",
        "\n",
        "    Finalmente se suma el resultado para todos los días\n",
        "\n",
        "    \"\"\"\n",
        "    total_cost = 0\n",
        "    for day in schedule:\n",
        "        # Convertir los números de toma (1-indexados) a índices (0-indexados)\n",
        "        indices = np.array(day) - 1\n",
        "        # Extraer las filas correspondientes a las tomas del día\n",
        "        day_matrix = matriz[indices-1, :]\n",
        "        # Calcular la unión lógica de las filas para obtener, por cada actor,\n",
        "        # si participó al menos en una toma del día.\n",
        "        union = np.logical_or.reduce(day_matrix, axis=0)\n",
        "        cost_day = int(np.sum(union))  # Suma de 1's (actores que participaron)\n",
        "        total_cost += cost_day\n",
        "    return total_cost\n",
        "\n",
        "# ============================================================================\n",
        "# 3. GENERAR SOLUCIÓN INICIAL\n",
        "# ============================================================================\n",
        "def generate_initial_schedule():\n",
        "    \"\"\"\n",
        "    Genera una solución inicial aleatoria particionando las 30 tomas en 5 días (6 tomas cada uno)\n",
        "    \"\"\"\n",
        "    shots = np.arange(1, 31)  # Tomás numeradas del 1 al 30\n",
        "    np.random.shuffle(shots)\n",
        "    schedule = [shots[i*6:(i+1)*6].tolist() for i in range(5)]\n",
        "    return schedule\n",
        "\n",
        "# ============================================================================\n",
        "# 4. OPERADOR DE VECINDAD\n",
        "# ============================================================================\n",
        "def neighbor(schedule):\n",
        "    \"\"\"\n",
        "    Genera una solución vecina intercambiando dos tomas de días distintos\n",
        "    \"\"\"\n",
        "    new_schedule = [day[:] for day in schedule]  # Copia de la solución actual\n",
        "    day1, day2 = random.sample(range(5), 2)       # Selecciona dos días aleatoriamente\n",
        "    idx1 = random.randrange(len(new_schedule[day1]))\n",
        "    idx2 = random.randrange(len(new_schedule[day2]))\n",
        "    new_schedule[day1][idx1], new_schedule[day2][idx2] = new_schedule[day2][idx2], new_schedule[day1][idx1]\n",
        "    return new_schedule\n",
        "\n",
        "# ============================================================================\n",
        "# 5. ALGORTIMO DE RECOCIDO SIMULADO\n",
        "# ============================================================================\n",
        "def simulated_annealing(matriz, initial_temp=10000, alpha=0.99, temp_min=1e-3, max_iter=1000000):\n",
        "    \"\"\"\n",
        "    Aplica recocido simulado para minimizar la función objetivo\n",
        "    \"\"\"\n",
        "    current_schedule = generate_initial_schedule_np()\n",
        "    current_obj = objective(current_schedule, matriz)\n",
        "    best_schedule = current_schedule\n",
        "    best_obj = current_obj\n",
        "    temp = initial_temp\n",
        "    iter_count = 0\n",
        "\n",
        "    while temp > temp_min and iter_count < max_iter:\n",
        "        new_schedule = neighbor(current_schedule)\n",
        "        new_obj = objective(new_schedule, matriz)\n",
        "        delta = new_obj - current_obj\n",
        "\n",
        "        # Aceptamos la nueva solución si mejora o, si empeora, con cierta probabilidad\n",
        "        if delta < 0 or random.random() < math.exp(-delta / temp):\n",
        "            current_schedule = new_schedule\n",
        "            current_obj = new_obj\n",
        "            if current_obj < best_obj:\n",
        "                best_schedule = current_schedule\n",
        "                best_obj = current_obj\n",
        "\n",
        "        temp *= alpha\n",
        "        iter_count += 1\n",
        "\n",
        "    return best_schedule, best_obj\n",
        "\n",
        "# ============================================================================\n",
        "# 6. EJECUCIÓN MULTIPLE PARA GUARDAR LA MEJOR SOLUCIÓN\n",
        "# ============================================================================\n",
        "def run_multiple_attempts(num_attempts):\n",
        "    best_overall_schedule = None\n",
        "    best_overall_obj = float('inf')\n",
        "\n",
        "    for i in range(num_attempts):\n",
        "        schedule, cost = simulated_annealing(matriz)\n",
        "        #print(f\"Intento {i+1}: costo = {cost}\")\n",
        "        if cost < best_overall_obj:\n",
        "            best_overall_obj = cost\n",
        "            best_overall_schedule = schedule\n",
        "\n",
        "    return best_overall_schedule, best_overall_obj\n",
        "\n",
        "if __name__ == \"__main__\":\n",
        "    # Ejecuta el recocido simulado múltiples veces y guarda la mejor solución\n",
        "    num_attempts = 1000\n",
        "    best_schedule, best_obj = run_multiple_attempts(num_attempts)\n",
        "\n",
        "    print(\"\\nMejor solución encontrada:\")\n",
        "    print(\"Costo:\", best_obj)\n",
        "    for i, day in enumerate(best_schedule):\n",
        "        print(f\"Día {i+1}: {day}\")\n"
      ],
      "metadata": {
        "colab": {
          "base_uri": "https://localhost:8080/"
        },
        "id": "6FJtMm95pexo",
        "outputId": "60cf4ad5-e969-48e5-99b1-cfa9ad3943ba"
      },
      "execution_count": 256,
      "outputs": [
        {
          "output_type": "stream",
          "name": "stdout",
          "text": [
            "\n",
            "Mejor solución encontrada:\n",
            "Costo: 27\n",
            "Día 1: [2, 21, 23, 12, 6, 3]\n",
            "Día 2: [16, 22, 30, 5, 8, 4]\n",
            "Día 3: [10, 7, 14, 1, 29, 28]\n",
            "Día 4: [24, 18, 20, 15, 19, 25]\n",
            "Día 5: [26, 13, 27, 17, 11, 9]\n"
          ]
        }
      ]
    }
  ]
}